{
  "metadata": {
    "kernelspec": {
      "language": "python",
      "display_name": "Python 3",
      "name": "python3"
    },
    "language_info": {
      "name": "python",
      "version": "3.10.14",
      "mimetype": "text/x-python",
      "codemirror_mode": {
        "name": "ipython",
        "version": 3
      },
      "pygments_lexer": "ipython3",
      "nbconvert_exporter": "python",
      "file_extension": ".py"
    },
    "kaggle": {
      "accelerator": "none",
      "dataSources": [
        {
          "sourceId": 5256696,
          "sourceType": "datasetVersion",
          "datasetId": 3041726
        }
      ],
      "dockerImageVersionId": 30786,
      "isInternetEnabled": true,
      "language": "python",
      "sourceType": "notebook",
      "isGpuEnabled": false
    },
    "colab": {
      "name": "deepfake_V1",
      "provenance": [],
      "include_colab_link": true
    }
  },
  "nbformat_minor": 0,
  "nbformat": 4,
  "cells": [
    {
      "cell_type": "markdown",
      "metadata": {
        "id": "view-in-github",
        "colab_type": "text"
      },
      "source": [
        "<a href=\"https://colab.research.google.com/github/Akasxh/Deepfake_Detection/blob/main/deepfake_V1.ipynb\" target=\"_parent\"><img src=\"https://colab.research.google.com/assets/colab-badge.svg\" alt=\"Open In Colab\"/></a>"
      ]
    },
    {
      "source": [
        "# IMPORTANT: RUN THIS CELL IN ORDER TO IMPORT YOUR KAGGLE DATA SOURCES,\n",
        "# THEN FEEL FREE TO DELETE THIS CELL.\n",
        "# NOTE: THIS NOTEBOOK ENVIRONMENT DIFFERS FROM KAGGLE'S PYTHON\n",
        "# ENVIRONMENT SO THERE MAY BE MISSING LIBRARIES USED BY YOUR\n",
        "# NOTEBOOK.\n",
        "import kagglehub\n",
        "birdy654_cifake_real_and_ai_generated_synthetic_images_path = kagglehub.dataset_download('birdy654/cifake-real-and-ai-generated-synthetic-images')\n",
        "\n",
        "print('Data source import complete.')\n"
      ],
      "metadata": {
        "id": "_kXO-xu8fbEz"
      },
      "cell_type": "code",
      "outputs": [],
      "execution_count": null
    },
    {
      "cell_type": "code",
      "source": [
        "import os\n",
        "import numpy as np\n",
        "from tqdm import tqdm\n",
        "import pandas as pd\n",
        "import cv2\n",
        "import time\n",
        "from sklearn.model_selection import train_test_split\n",
        "from sklearn.metrics import f1_score\n",
        "from sklearn.metrics import confusion_matrix, classification_report\n",
        "import tensorflow as tf\n",
        "from tensorflow import keras\n",
        "from tensorflow.keras.preprocessing.image import ImageDataGenerator\n",
        "from tensorflow.keras.layers import Dense, Activation,Dropout,Conv2D, MaxPooling2D,BatchNormalization\n",
        "from tensorflow.keras.optimizers import Adam, Adamax\n",
        "from tensorflow.keras.metrics import categorical_crossentropy\n",
        "from tensorflow.keras import regularizers\n",
        "from tensorflow.keras.models import Model\n",
        "from tensorflow.keras import backend as K\n",
        "import matplotlib\n",
        "import matplotlib.pyplot as plt\n",
        "import seaborn as sns\n",
        "sns.set_style('darkgrid')"
      ],
      "metadata": {
        "trusted": true,
        "execution": {
          "iopub.status.busy": "2024-11-10T12:03:03.38258Z",
          "iopub.execute_input": "2024-11-10T12:03:03.383521Z",
          "iopub.status.idle": "2024-11-10T12:03:20.776706Z",
          "shell.execute_reply.started": "2024-11-10T12:03:03.383475Z",
          "shell.execute_reply": "2024-11-10T12:03:20.775787Z"
        },
        "id": "JaxrWi7yfbE1"
      },
      "outputs": [],
      "execution_count": null
    },
    {
      "cell_type": "code",
      "source": [
        "def print_in_color(txt_msg,fore_tupple= (0,255,255) ,back_tupple=(0,0,0)):\n",
        "    #prints the text_msg in the foreground color specified by fore_tupple with the background specified by back_tupple\n",
        "    #text_msg is the text, fore_tupple is foregroud color tupple (r,g,b), back_tupple is background tupple (r,g,b)\n",
        "    rf,gf,bf=fore_tupple\n",
        "    rb,gb,bb=back_tupple\n",
        "    msg='{0}' + txt_msg\n",
        "    mat='\\33[38;2;' + str(rf) +';' + str(gf) + ';' + str(bf) + ';48;2;' + str(rb) + ';' +str(gb) + ';' + str(bb) +'m'\n",
        "    print(msg .format(mat))\n",
        "    print('\\33[0m', end='') # returns default print color to back to black"
      ],
      "metadata": {
        "trusted": true,
        "execution": {
          "iopub.status.busy": "2024-11-10T12:03:20.778349Z",
          "iopub.execute_input": "2024-11-10T12:03:20.778895Z",
          "iopub.status.idle": "2024-11-10T12:03:20.785423Z",
          "shell.execute_reply.started": "2024-11-10T12:03:20.778858Z",
          "shell.execute_reply": "2024-11-10T12:03:20.784338Z"
        },
        "id": "buoOPHNxfbE2"
      },
      "outputs": [],
      "execution_count": null
    },
    {
      "cell_type": "code",
      "source": [
        "fpath=r'/kaggle/input/cifake-real-and-ai-generated-synthetic-images/train/REAL/0000 (10).jpg'\n",
        "img=cv2.imread(fpath)\n",
        "print('Image shape is ', img.shape)"
      ],
      "metadata": {
        "trusted": true,
        "execution": {
          "iopub.status.busy": "2024-11-10T12:03:28.862483Z",
          "iopub.execute_input": "2024-11-10T12:03:28.863593Z",
          "iopub.status.idle": "2024-11-10T12:03:28.903426Z",
          "shell.execute_reply.started": "2024-11-10T12:03:28.863545Z",
          "shell.execute_reply": "2024-11-10T12:03:28.902347Z"
        },
        "id": "Q6O6t2i7fbE2",
        "outputId": "15415d55-7de2-41e7-c882-8983c01e2c30"
      },
      "outputs": [
        {
          "name": "stdout",
          "text": "Image shape is  (32, 32, 3)\n",
          "output_type": "stream"
        }
      ],
      "execution_count": null
    },
    {
      "cell_type": "code",
      "source": [
        "limiter = 20000\n",
        "test_dir=r'/kaggle/input/cifake-real-and-ai-generated-synthetic-images/test'\n",
        "train_dir=r'/kaggle/input/cifake-real-and-ai-generated-synthetic-images/train'\n",
        "classes=sorted(os.listdir(train_dir))\n",
        "print('there are ', len(classes), ' classes ', classes[0], ' and ', classes[1])\n",
        "dir_list=[train_dir, test_dir]\n",
        "names=['train', 'test']\n",
        "zip_list=zip(names, dir_list)\n",
        "for name, dir in zip_list:\n",
        "    filepaths=[]\n",
        "    labels=[]\n",
        "    class_list=sorted(os.listdir(dir))\n",
        "    for klass in class_list:\n",
        "        classpath=os.path.join(dir, klass)\n",
        "        flist=sorted(os.listdir(classpath))\n",
        "        if name == 'train':\n",
        "            flist=np.random.choice(flist, limiter, replace=False) # randomly select limiter number of files from train_dir for each class\n",
        "        desc=f'{name}-{klass}'\n",
        "        for f in tqdm(flist, ncols=100, colour='blue', unit='files', desc=desc):\n",
        "            fpath=os.path.join(classpath,f)\n",
        "            filepaths.append(fpath)\n",
        "            labels.append(klass)\n",
        "    Fseries=pd.Series(filepaths, name='filepaths')\n",
        "    Lseries=pd.Series(labels, name='labels')\n",
        "    if name == 'train':\n",
        "        train_df=pd.concat([Fseries, Lseries], axis=1)\n",
        "        train_df, valid_df=train_test_split(train_df, test_size=.1, shuffle=True, random_state=123, stratify=train_df['labels'])\n",
        "    else:\n",
        "        test_df=pd.concat([Fseries, Lseries], axis=1)\n",
        "print('train_df length: ', len(train_df), '  test_df length: ', len(test_df), '  valid_df length: ', len(valid_df))"
      ],
      "metadata": {
        "trusted": true,
        "execution": {
          "iopub.status.busy": "2024-11-10T12:04:08.778489Z",
          "iopub.execute_input": "2024-11-10T12:04:08.778946Z",
          "iopub.status.idle": "2024-11-10T12:04:14.755936Z",
          "shell.execute_reply.started": "2024-11-10T12:04:08.778905Z",
          "shell.execute_reply": "2024-11-10T12:04:14.75474Z"
        },
        "id": "4CRAa0ZEfbE3",
        "outputId": "aa15cd17-8ecd-4d08-f12d-6441f15e6c84"
      },
      "outputs": [
        {
          "name": "stdout",
          "text": "there are  2  classes  FAKE  and  REAL\n",
          "output_type": "stream"
        },
        {
          "name": "stderr",
          "text": "train-FAKE: 100%|\u001b[34m██████████████████████████████████████\u001b[0m| 20000/20000 [00:00<00:00, 429122.12files/s]\u001b[0m\ntrain-REAL: 100%|\u001b[34m██████████████████████████████████████\u001b[0m| 20000/20000 [00:00<00:00, 425346.98files/s]\u001b[0m\ntest-FAKE: 100%|\u001b[34m███████████████████████████████████████\u001b[0m| 10000/10000 [00:00<00:00, 481218.91files/s]\u001b[0m\ntest-REAL: 100%|\u001b[34m███████████████████████████████████████\u001b[0m| 10000/10000 [00:00<00:00, 449617.73files/s]\u001b[0m",
          "output_type": "stream"
        },
        {
          "name": "stdout",
          "text": "train_df length:  36000   test_df length:  20000   valid_df length:  4000\n",
          "output_type": "stream"
        },
        {
          "name": "stderr",
          "text": "\n",
          "output_type": "stream"
        }
      ],
      "execution_count": null
    },
    {
      "cell_type": "code",
      "source": [
        "gen=ImageDataGenerator()\n",
        "# I will be using an EfficientNet model which requires a minimum image size of 32 X 32\n",
        "img_size=(32,32)\n",
        "bs=200 # set the batch size\n",
        "train_gen=gen.flow_from_dataframe(train_df, x_col='filepaths', y_col='labels', target_size=img_size,\n",
        "                                 class_mode= 'categorical', color_mode='rgb', shuffle=True, batch_size=bs)\n",
        "valid_gen=gen.flow_from_dataframe(valid_df, x_col='filepaths', y_col='labels', target_size=img_size,\n",
        "                                 class_mode= 'categorical', color_mode='rgb', shuffle=False, batch_size=bs)\n",
        "test_gen=gen.flow_from_dataframe(test_df, x_col='filepaths', y_col='labels', target_size=img_size,\n",
        "                                 class_mode= 'categorical', color_mode='rgb', shuffle=False, batch_size=bs)\n",
        "labels=test_gen.labels"
      ],
      "metadata": {
        "trusted": true,
        "execution": {
          "iopub.status.busy": "2024-11-10T12:04:55.823012Z",
          "iopub.execute_input": "2024-11-10T12:04:55.824176Z",
          "iopub.status.idle": "2024-11-10T12:07:32.723214Z",
          "shell.execute_reply.started": "2024-11-10T12:04:55.824115Z",
          "shell.execute_reply": "2024-11-10T12:07:32.722047Z"
        },
        "id": "ysT8uKaRfbE3",
        "outputId": "14f1e5a4-4c90-49ee-ef12-211b5b013c1d"
      },
      "outputs": [
        {
          "name": "stdout",
          "text": "Found 36000 validated image filenames belonging to 2 classes.\nFound 4000 validated image filenames belonging to 2 classes.\nFound 20000 validated image filenames belonging to 2 classes.\n",
          "output_type": "stream"
        }
      ],
      "execution_count": null
    },
    {
      "cell_type": "code",
      "source": [
        "def F1_score(y_true, y_pred): #taken from old keras source code\n",
        "    true_positives = K.sum(K.round(K.clip(y_true * y_pred, 0, 1)))\n",
        "    possible_positives = K.sum(K.round(K.clip(y_true, 0, 1)))\n",
        "    predicted_positives = K.sum(K.round(K.clip(y_pred, 0, 1)))\n",
        "    precision = true_positives / (predicted_positives + K.epsilon())\n",
        "    recall = true_positives / (possible_positives + K.epsilon())\n",
        "    f1_val = 2*(precision*recall)/(precision+recall+K.epsilon())\n",
        "    return f1_val"
      ],
      "metadata": {
        "trusted": true,
        "execution": {
          "iopub.status.busy": "2024-11-10T12:07:32.725247Z",
          "iopub.execute_input": "2024-11-10T12:07:32.726162Z",
          "iopub.status.idle": "2024-11-10T12:07:32.732394Z",
          "shell.execute_reply.started": "2024-11-10T12:07:32.726119Z",
          "shell.execute_reply": "2024-11-10T12:07:32.731292Z"
        },
        "id": "cyo2npaffbE3"
      },
      "outputs": [],
      "execution_count": null
    },
    {
      "cell_type": "code",
      "source": [
        "img_shape=(img_size[0], img_size[1], 3)\n",
        "base_model=tf.keras.applications.EfficientNetV2B0(include_top=False, weights=\"imagenet\",input_shape=img_shape, pooling='max')\n",
        "base_model.trainable=True\n",
        "x=base_model.output\n",
        "x=BatchNormalization(axis=-1, momentum=0.99, epsilon=0.001 )(x)\n",
        "x = Dense(256, kernel_regularizer = regularizers.l2(0.016),activity_regularizer=regularizers.l1(0.006),\n",
        "                bias_regularizer=regularizers.l1(0.006) ,activation='relu')(x)\n",
        "x=Dropout(rate=.4, seed=123)(x)\n",
        "output=Dense(2, activation='softmax')(x)\n",
        "model=Model(inputs=base_model.input, outputs=output)\n",
        "model.compile(Adamax(learning_rate=.001), loss='categorical_crossentropy', metrics=['accuracy', F1_score])"
      ],
      "metadata": {
        "trusted": true,
        "execution": {
          "iopub.status.busy": "2024-11-10T12:12:55.510945Z",
          "iopub.execute_input": "2024-11-10T12:12:55.512031Z",
          "iopub.status.idle": "2024-11-10T12:12:56.906484Z",
          "shell.execute_reply.started": "2024-11-10T12:12:55.511962Z",
          "shell.execute_reply": "2024-11-10T12:12:56.905562Z"
        },
        "id": "MZqoV4SOfbE4"
      },
      "outputs": [],
      "execution_count": null
    },
    {
      "cell_type": "code",
      "source": [
        "# Initial training for `ask_epoch` epochs\n",
        "history = model.fit(\n",
        "    x=train_gen,\n",
        "    epochs=20,\n",
        "    verbose=1,  # Setting verbose to 1 for progress display\n",
        "    validation_data=valid_gen,\n",
        "    shuffle=True\n",
        ")"
      ],
      "metadata": {
        "trusted": true,
        "execution": {
          "iopub.status.busy": "2024-11-10T12:13:20.349459Z",
          "iopub.execute_input": "2024-11-10T12:13:20.350494Z",
          "iopub.status.idle": "2024-11-10T12:55:20.821879Z",
          "shell.execute_reply.started": "2024-11-10T12:13:20.350421Z",
          "shell.execute_reply": "2024-11-10T12:55:20.820745Z"
        },
        "id": "6wsz2ZP9fbE4",
        "outputId": "578dbd0e-f555-45bb-be7f-36a72a2e89f6"
      },
      "outputs": [
        {
          "name": "stdout",
          "text": "Epoch 1/20\n",
          "output_type": "stream"
        },
        {
          "name": "stderr",
          "text": "/opt/conda/lib/python3.10/site-packages/keras/src/trainers/data_adapters/py_dataset_adapter.py:121: UserWarning: Your `PyDataset` class should call `super().__init__(**kwargs)` in its constructor. `**kwargs` can include `workers`, `use_multiprocessing`, `max_queue_size`. Do not pass these arguments to `fit()`, as they will be ignored.\n  self._warn_if_super_not_called()\n",
          "output_type": "stream"
        },
        {
          "name": "stdout",
          "text": "\u001b[1m180/180\u001b[0m \u001b[32m━━━━━━━━━━━━━━━━━━━━\u001b[0m\u001b[37m\u001b[0m \u001b[1m362s\u001b[0m 2s/step - accuracy: 0.5033 - f1_score: 0.5033 - loss: 58.4202 - val_accuracy: 0.4955 - val_f1_score: 0.4955 - val_loss: 5.7009\nEpoch 2/20\n\u001b[1m180/180\u001b[0m \u001b[32m━━━━━━━━━━━━━━━━━━━━\u001b[0m\u001b[37m\u001b[0m \u001b[1m112s\u001b[0m 612ms/step - accuracy: 0.4907 - f1_score: 0.4907 - loss: 5.5441 - val_accuracy: 0.4975 - val_f1_score: 0.4975 - val_loss: 5.0941\nEpoch 3/20\n\u001b[1m180/180\u001b[0m \u001b[32m━━━━━━━━━━━━━━━━━━━━\u001b[0m\u001b[37m\u001b[0m \u001b[1m112s\u001b[0m 616ms/step - accuracy: 0.4974 - f1_score: 0.4974 - loss: 4.9442 - val_accuracy: 0.4972 - val_f1_score: 0.4972 - val_loss: 4.4866\nEpoch 4/20\n\u001b[1m180/180\u001b[0m \u001b[32m━━━━━━━━━━━━━━━━━━━━\u001b[0m\u001b[37m\u001b[0m \u001b[1m112s\u001b[0m 612ms/step - accuracy: 0.4986 - f1_score: 0.4986 - loss: 4.3332 - val_accuracy: 0.4965 - val_f1_score: 0.4965 - val_loss: 3.8739\nEpoch 5/20\n\u001b[1m180/180\u001b[0m \u001b[32m━━━━━━━━━━━━━━━━━━━━\u001b[0m\u001b[37m\u001b[0m \u001b[1m112s\u001b[0m 614ms/step - accuracy: 0.4966 - f1_score: 0.4966 - loss: 3.7214 - val_accuracy: 0.4988 - val_f1_score: 0.4987 - val_loss: 3.2732\nEpoch 6/20\n\u001b[1m180/180\u001b[0m \u001b[32m━━━━━━━━━━━━━━━━━━━━\u001b[0m\u001b[37m\u001b[0m \u001b[1m113s\u001b[0m 617ms/step - accuracy: 0.4999 - f1_score: 0.4999 - loss: 3.1284 - val_accuracy: 0.4902 - val_f1_score: 0.4902 - val_loss: 2.7090\nEpoch 7/20\n\u001b[1m180/180\u001b[0m \u001b[32m━━━━━━━━━━━━━━━━━━━━\u001b[0m\u001b[37m\u001b[0m \u001b[1m113s\u001b[0m 619ms/step - accuracy: 0.4961 - f1_score: 0.4961 - loss: 2.5772 - val_accuracy: 0.5015 - val_f1_score: 0.5015 - val_loss: 2.2067\nEpoch 8/20\n\u001b[1m180/180\u001b[0m \u001b[32m━━━━━━━━━━━━━━━━━━━━\u001b[0m\u001b[37m\u001b[0m \u001b[1m112s\u001b[0m 615ms/step - accuracy: 0.5026 - f1_score: 0.5026 - loss: 2.0977 - val_accuracy: 0.5017 - val_f1_score: 0.5017 - val_loss: 1.7976\nEpoch 9/20\n\u001b[1m180/180\u001b[0m \u001b[32m━━━━━━━━━━━━━━━━━━━━\u001b[0m\u001b[37m\u001b[0m \u001b[1m113s\u001b[0m 618ms/step - accuracy: 0.4987 - f1_score: 0.4987 - loss: 1.7102 - val_accuracy: 0.5060 - val_f1_score: 0.5060 - val_loss: 1.4800\nEpoch 10/20\n\u001b[1m180/180\u001b[0m \u001b[32m━━━━━━━━━━━━━━━━━━━━\u001b[0m\u001b[37m\u001b[0m \u001b[1m111s\u001b[0m 607ms/step - accuracy: 0.5019 - f1_score: 0.5019 - loss: 1.4177 - val_accuracy: 0.4985 - val_f1_score: 0.4985 - val_loss: 1.2514\nEpoch 11/20\n\u001b[1m180/180\u001b[0m \u001b[32m━━━━━━━━━━━━━━━━━━━━\u001b[0m\u001b[37m\u001b[0m \u001b[1m111s\u001b[0m 608ms/step - accuracy: 0.5027 - f1_score: 0.5027 - loss: 1.2135 - val_accuracy: 0.5045 - val_f1_score: 0.5045 - val_loss: 1.1052\nEpoch 12/20\n\u001b[1m180/180\u001b[0m \u001b[32m━━━━━━━━━━━━━━━━━━━━\u001b[0m\u001b[37m\u001b[0m \u001b[1m111s\u001b[0m 608ms/step - accuracy: 0.4979 - f1_score: 0.4979 - loss: 1.0819 - val_accuracy: 0.4952 - val_f1_score: 0.4952 - val_loss: 1.0083\nEpoch 13/20\n\u001b[1m180/180\u001b[0m \u001b[32m━━━━━━━━━━━━━━━━━━━━\u001b[0m\u001b[37m\u001b[0m \u001b[1m110s\u001b[0m 606ms/step - accuracy: 0.4989 - f1_score: 0.4989 - loss: 0.9914 - val_accuracy: 0.4997 - val_f1_score: 0.4997 - val_loss: 0.9400\nEpoch 14/20\n\u001b[1m180/180\u001b[0m \u001b[32m━━━━━━━━━━━━━━━━━━━━\u001b[0m\u001b[37m\u001b[0m \u001b[1m111s\u001b[0m 609ms/step - accuracy: 0.4996 - f1_score: 0.4996 - loss: 0.9284 - val_accuracy: 0.4997 - val_f1_score: 0.4997 - val_loss: 0.8891\nEpoch 15/20\n\u001b[1m180/180\u001b[0m \u001b[32m━━━━━━━━━━━━━━━━━━━━\u001b[0m\u001b[37m\u001b[0m \u001b[1m111s\u001b[0m 610ms/step - accuracy: 0.4997 - f1_score: 0.4997 - loss: 0.8813 - val_accuracy: 0.5000 - val_f1_score: 0.5000 - val_loss: 0.8491\nEpoch 16/20\n\u001b[1m180/180\u001b[0m \u001b[32m━━━━━━━━━━━━━━━━━━━━\u001b[0m\u001b[37m\u001b[0m \u001b[1m111s\u001b[0m 608ms/step - accuracy: 0.4975 - f1_score: 0.4975 - loss: 0.8411 - val_accuracy: 0.5000 - val_f1_score: 0.5000 - val_loss: 0.8162\nEpoch 17/20\n\u001b[1m180/180\u001b[0m \u001b[32m━━━━━━━━━━━━━━━━━━━━\u001b[0m\u001b[37m\u001b[0m \u001b[1m144s\u001b[0m 618ms/step - accuracy: 0.4982 - f1_score: 0.4982 - loss: 0.8101 - val_accuracy: 0.5000 - val_f1_score: 0.5000 - val_loss: 0.7897\nEpoch 18/20\n\u001b[1m180/180\u001b[0m \u001b[32m━━━━━━━━━━━━━━━━━━━━\u001b[0m\u001b[37m\u001b[0m \u001b[1m112s\u001b[0m 615ms/step - accuracy: 0.4950 - f1_score: 0.4950 - loss: 0.7855 - val_accuracy: 0.5000 - val_f1_score: 0.5000 - val_loss: 0.7687\nEpoch 19/20\n\u001b[1m180/180\u001b[0m \u001b[32m━━━━━━━━━━━━━━━━━━━━\u001b[0m\u001b[37m\u001b[0m \u001b[1m113s\u001b[0m 618ms/step - accuracy: 0.5027 - f1_score: 0.5027 - loss: 0.7649 - val_accuracy: 0.5000 - val_f1_score: 0.5000 - val_loss: 0.7526\nEpoch 20/20\n\u001b[1m180/180\u001b[0m \u001b[32m━━━━━━━━━━━━━━━━━━━━\u001b[0m\u001b[37m\u001b[0m \u001b[1m113s\u001b[0m 619ms/step - accuracy: 0.4960 - f1_score: 0.4960 - loss: 0.7508 - val_accuracy: 0.5000 - val_f1_score: 0.5000 - val_loss: 0.7388\n",
          "output_type": "stream"
        }
      ],
      "execution_count": null
    },
    {
      "cell_type": "code",
      "source": [
        "from sklearn.metrics import classification_report, f1_score\n",
        "\n",
        "# Generate predictions on the validation set\n",
        "y_pred = model.predict(valid_gen)\n",
        "\n",
        "# Convert predictions to class labels (assuming binary classification)\n",
        "y_pred_classes = y_pred.argmax(axis=1)  # For multi-class, choose the index of the max probability\n",
        "y_true = valid_gen.classes  # Assuming valid_gen is a generator and provides true labels\n",
        "\n",
        "# Calculate and print F1 score\n",
        "f1 = f1_score(y_true, y_pred_classes, average='weighted')  # 'weighted' accounts for label imbalance; you can use 'macro' or 'micro' if preferred\n",
        "print(f\"F1 Score: {f1}\")\n",
        "\n",
        "# Optional: Print a detailed classification report\n",
        "print(classification_report(y_true, y_pred_classes))\n"
      ],
      "metadata": {
        "trusted": true,
        "execution": {
          "iopub.status.busy": "2024-11-10T13:31:17.511144Z",
          "iopub.execute_input": "2024-11-10T13:31:17.512036Z",
          "iopub.status.idle": "2024-11-10T13:31:28.43922Z",
          "shell.execute_reply.started": "2024-11-10T13:31:17.511983Z",
          "shell.execute_reply": "2024-11-10T13:31:28.438151Z"
        },
        "id": "eHGnp1IDfbE4",
        "outputId": "f2406d23-9496-4924-fd7f-4f9f932972ec"
      },
      "outputs": [
        {
          "name": "stdout",
          "text": "\u001b[1m20/20\u001b[0m \u001b[32m━━━━━━━━━━━━━━━━━━━━\u001b[0m\u001b[37m\u001b[0m \u001b[1m10s\u001b[0m 367ms/step\nF1 Score: 0.3333333333333333\n              precision    recall  f1-score   support\n\n           0       0.00      0.00      0.00      2000\n           1       0.50      1.00      0.67      2000\n\n    accuracy                           0.50      4000\n   macro avg       0.25      0.50      0.33      4000\nweighted avg       0.25      0.50      0.33      4000\n\n",
          "output_type": "stream"
        },
        {
          "name": "stderr",
          "text": "/opt/conda/lib/python3.10/site-packages/sklearn/metrics/_classification.py:1344: UndefinedMetricWarning: Precision and F-score are ill-defined and being set to 0.0 in labels with no predicted samples. Use `zero_division` parameter to control this behavior.\n  _warn_prf(average, modifier, msg_start, len(result))\n/opt/conda/lib/python3.10/site-packages/sklearn/metrics/_classification.py:1344: UndefinedMetricWarning: Precision and F-score are ill-defined and being set to 0.0 in labels with no predicted samples. Use `zero_division` parameter to control this behavior.\n  _warn_prf(average, modifier, msg_start, len(result))\n/opt/conda/lib/python3.10/site-packages/sklearn/metrics/_classification.py:1344: UndefinedMetricWarning: Precision and F-score are ill-defined and being set to 0.0 in labels with no predicted samples. Use `zero_division` parameter to control this behavior.\n  _warn_prf(average, modifier, msg_start, len(result))\n",
          "output_type": "stream"
        }
      ],
      "execution_count": null
    },
    {
      "cell_type": "code",
      "source": [
        "from sklearn.metrics import confusion_matrix, ConfusionMatrixDisplay\n",
        "\n",
        "# Generate predictions on the validation set\n",
        "y_pred = model.predict(valid_gen)\n",
        "y_pred_classes = y_pred.argmax(axis=1)  # Assuming multi-class; for binary use a threshold (e.g., y_pred > 0.5)\n",
        "\n",
        "# Get true labels\n",
        "y_true = valid_gen.classes  # Assuming `valid_gen` is a generator with true labels\n",
        "\n",
        "# Create the confusion matrix\n",
        "conf_matrix = confusion_matrix(y_true, y_pred_classes)\n",
        "\n",
        "# Display the confusion matrix as a chart\n",
        "disp = ConfusionMatrixDisplay(confusion_matrix=conf_matrix, display_labels=['Class 0', 'Class 1'])\n",
        "disp.plot(cmap='viridis')  # 'viridis' is a colormap; you can change it as desired\n",
        "disp.ax_.set_title('Confusion Matrix')\n",
        "disp.ax_.set_xlabel('Predicted Labels')\n",
        "disp.ax_.set_ylabel('True Labels')\n",
        "\n",
        "import matplotlib.pyplot as plt\n",
        "plt.show()\n"
      ],
      "metadata": {
        "trusted": true,
        "execution": {
          "iopub.status.busy": "2024-11-10T13:32:19.855095Z",
          "iopub.execute_input": "2024-11-10T13:32:19.855808Z",
          "iopub.status.idle": "2024-11-10T13:32:24.943127Z",
          "shell.execute_reply.started": "2024-11-10T13:32:19.855766Z",
          "shell.execute_reply": "2024-11-10T13:32:24.941963Z"
        },
        "id": "jMwGjW8afbE5",
        "outputId": "e4443115-4bcf-4450-e7c8-b97afa08e44a"
      },
      "outputs": [
        {
          "name": "stdout",
          "text": "\u001b[1m20/20\u001b[0m \u001b[32m━━━━━━━━━━━━━━━━━━━━\u001b[0m\u001b[37m\u001b[0m \u001b[1m4s\u001b[0m 211ms/step\n",
          "output_type": "stream"
        },
        {
          "output_type": "display_data",
          "data": {
            "text/plain": "<Figure size 640x480 with 2 Axes>",
            "image/png": "[encoded data removed]"
          },
          "metadata": {}
        }
      ],
      "execution_count": null
    },
    {
      "cell_type": "code",
      "source": [
        "def predictor(model,test_gen):\n",
        "    classes=list(test_gen.class_indices.keys())\n",
        "    class_count=len(classes)\n",
        "    preds=model.predict(test_gen, verbose=1)\n",
        "    errors=0\n",
        "    test_count =len(preds)\n",
        "    misclassified_classes=[]\n",
        "    misclassified_files=[]\n",
        "    misclassified_as = []\n",
        "    pred_indices=[]\n",
        "    for i, p in enumerate (preds):\n",
        "        pred_index=np.argmax(p)\n",
        "        pred_indices.append(pred_index)\n",
        "        true_index= test_gen.labels[i]\n",
        "        if  pred_index != true_index:\n",
        "            errors +=1\n",
        "            misclassified_classes.append(classes[true_index])\n",
        "            misclassified_as.append(classes[pred_index])\n",
        "            file=test_gen.filenames[i]\n",
        "            split=file.split('/')\n",
        "            L=len(split)\n",
        "            f=split[L-2] +' '+ split[L-1]\n",
        "            misclassified_files.append(f)\n",
        "\n",
        "    accuracy = (test_count-errors)*100/test_count\n",
        "    ytrue=np.array(test_gen.labels)\n",
        "    ypred=np.array(pred_indices)\n",
        "    f1score=f1_score(ytrue, ypred, average='weighted')* 100\n",
        "    msg=f'There were {errors} errors in {test_count} tests for an accuracy of {accuracy:6.2f} and an F1 score of {f1score:6.2f}'\n",
        "    print (msg)\n",
        "    misclassified_classes=sorted(misclassified_classes)\n",
        "    if len(misclassified_classes) > 0:\n",
        "        misclassifications=[]\n",
        "        for klass in misclassified_classes:\n",
        "            mis_count=misclassified_classes.count(klass)\n",
        "            misclassifications.append(mis_count)\n",
        "        unique=len(np.unique(misclassified_classes))\n",
        "        if unique==1:\n",
        "            height=int(unique)\n",
        "        else:\n",
        "            height =int(unique/2)\n",
        "        plt.figure(figsize=(10, height))\n",
        "        plt.style.use('fivethirtyeight')\n",
        "        plt.barh(misclassified_classes, misclassifications )\n",
        "        plt.title( 'Classification Errors on Test Set by Class', fontsize=20, color='blue')\n",
        "        plt.xlabel('NUMBER OF MISCLASSIFICATIONS', fontsize=20, color='blue')\n",
        "        plt.ylabel('CLASS', fontsize=20, color='blue')\n",
        "        plt.show()\n",
        "    if class_count <=30:\n",
        "        cm = confusion_matrix(ytrue, ypred )\n",
        "        # plot the confusion matrix\n",
        "        plt.figure(figsize=(12, 8))\n",
        "        sns.heatmap(cm, annot=True, vmin=0, fmt='g', cmap='Blues', cbar=False)\n",
        "        plt.xticks(np.arange(class_count)+.5, classes, rotation=90)\n",
        "        plt.yticks(np.arange(class_count)+.5, classes, rotation=0)\n",
        "        plt.xlabel(\"Predicted\")\n",
        "        plt.ylabel(\"Actual\")\n",
        "        plt.title(\"Confusion Matrix\")\n",
        "        plt.show()\n",
        "        clr = classification_report(ytrue, ypred, target_names=classes, digits= 4) # create classification report\n",
        "        print(\"Classification Report:\\n----------------------\\n\", clr)\n",
        "    return f1score"
      ],
      "metadata": {
        "trusted": true,
        "execution": {
          "iopub.status.busy": "2024-11-10T13:33:03.418395Z",
          "iopub.execute_input": "2024-11-10T13:33:03.419482Z",
          "iopub.status.idle": "2024-11-10T13:33:03.434378Z",
          "shell.execute_reply.started": "2024-11-10T13:33:03.419432Z",
          "shell.execute_reply": "2024-11-10T13:33:03.433234Z"
        },
        "id": "hRiPgw0pfbE5"
      },
      "outputs": [],
      "execution_count": null
    },
    {
      "cell_type": "code",
      "source": [
        "f1score=predictor(model,test_gen)"
      ],
      "metadata": {
        "trusted": true,
        "execution": {
          "iopub.status.busy": "2024-11-10T13:33:05.555098Z",
          "iopub.execute_input": "2024-11-10T13:33:05.555957Z",
          "iopub.status.idle": "2024-11-10T13:36:06.405592Z",
          "shell.execute_reply.started": "2024-11-10T13:33:05.555902Z",
          "shell.execute_reply": "2024-11-10T13:36:06.404353Z"
        },
        "id": "mp9axCGMfbE5",
        "outputId": "18e238cf-ec53-4b3a-e34b-b962cb0c20fd"
      },
      "outputs": [
        {
          "name": "stderr",
          "text": "/opt/conda/lib/python3.10/site-packages/keras/src/trainers/data_adapters/py_dataset_adapter.py:121: UserWarning: Your `PyDataset` class should call `super().__init__(**kwargs)` in its constructor. `**kwargs` can include `workers`, `use_multiprocessing`, `max_queue_size`. Do not pass these arguments to `fit()`, as they will be ignored.\n  self._warn_if_super_not_called()\n",
          "output_type": "stream"
        },
        {
          "name": "stdout",
          "text": "\u001b[1m100/100\u001b[0m \u001b[32m━━━━━━━━━━━━━━━━━━━━\u001b[0m\u001b[37m\u001b[0m \u001b[1m162s\u001b[0m 2s/step\nThere were 9997 errors in 20000 tests for an accuracy of  50.02 and an F1 score of  33.37\n",
          "output_type": "stream"
        },
        {
          "output_type": "display_data",
          "data": {
            "text/plain": "<Figure size 1000x100 with 1 Axes>",
            "image/png": "[encoded data removed]"
          },
          "metadata": {}
        },
        {
          "output_type": "display_data",
          "data": {
            "text/plain": "<Figure size 1200x800 with 1 Axes>",
            "image/png": "[encoded data removed]"
          },
          "metadata": {}
        },
        {
          "name": "stdout",
          "text": "Classification Report:\n----------------------\n               precision    recall  f1-score   support\n\n        FAKE     1.0000    0.0003    0.0006     10000\n        REAL     0.5001    1.0000    0.6667     10000\n\n    accuracy                         0.5001     20000\n   macro avg     0.7500    0.5001    0.3337     20000\nweighted avg     0.7500    0.5001    0.3337     20000\n\n",
          "output_type": "stream"
        }
      ],
      "execution_count": null
    },
    {
      "cell_type": "code",
      "source": [
        "output_path = '/kaggle/working/my_model.h5'\n",
        "model.save(output_path)\n"
      ],
      "metadata": {
        "trusted": true,
        "execution": {
          "iopub.status.busy": "2024-11-10T14:30:10.289789Z",
          "iopub.execute_input": "2024-11-10T14:30:10.290245Z",
          "iopub.status.idle": "2024-11-10T14:30:10.713814Z",
          "shell.execute_reply.started": "2024-11-10T14:30:10.290205Z",
          "shell.execute_reply": "2024-11-10T14:30:10.712318Z"
        },
        "collapsed": true,
        "jupyter": {
          "outputs_hidden": true
        },
        "id": "HdT4CGXhfbE5",
        "outputId": "94f76c4d-07cf-4be7-ac57-1be85ef7e7a0"
      },
      "outputs": [
        {
          "traceback": [
            "\u001b[0;31m---------------------------------------------------------------------------\u001b[0m",
            "\u001b[0;31mNameError\u001b[0m                                 Traceback (most recent call last)",
            "Cell \u001b[0;32mIn[3], line 2\u001b[0m\n\u001b[1;32m      1\u001b[0m output_path \u001b[38;5;241m=\u001b[39m \u001b[38;5;124m'\u001b[39m\u001b[38;5;124m/kaggle/working/my_model.h5\u001b[39m\u001b[38;5;124m'\u001b[39m\n\u001b[0;32m----> 2\u001b[0m \u001b[43mmodel\u001b[49m\u001b[38;5;241m.\u001b[39msave(output_path)\n",
            "\u001b[0;31mNameError\u001b[0m: name 'model' is not defined"
          ],
          "ename": "NameError",
          "evalue": "name 'model' is not defined",
          "output_type": "error"
        }
      ],
      "execution_count": null
    },
    {
      "cell_type": "code",
      "source": [],
      "metadata": {
        "trusted": true,
        "id": "dpOr0OoXfbE5"
      },
      "outputs": [],
      "execution_count": null
    }
  ]
}
