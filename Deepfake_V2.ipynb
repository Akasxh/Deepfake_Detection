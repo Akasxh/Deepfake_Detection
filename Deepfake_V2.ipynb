{
  "metadata": {
    "kernelspec": {
      "language": "python",
      "display_name": "Python 3",
      "name": "python3"
    },
    "language_info": {
      "name": "python",
      "version": "3.10.14",
      "mimetype": "text/x-python",
      "codemirror_mode": {
        "name": "ipython",
        "version": 3
      },
      "pygments_lexer": "ipython3",
      "nbconvert_exporter": "python",
      "file_extension": ".py"
    },
    "kaggle": {
      "accelerator": "none",
      "dataSources": [
        {
          "sourceId": 5256696,
          "sourceType": "datasetVersion",
          "datasetId": 3041726
        }
      ],
      "dockerImageVersionId": 30786,
      "isInternetEnabled": true,
      "language": "python",
      "sourceType": "notebook",
      "isGpuEnabled": false
    },
    "colab": {
      "name": "Deepfake_V2",
      "provenance": [],
      "include_colab_link": true
    }
  },
  "nbformat_minor": 0,
  "nbformat": 4,
  "cells": [
    {
      "cell_type": "markdown",
      "metadata": {
        "id": "view-in-github",
        "colab_type": "text"
      },
      "source": [
        "<a href=\"https://colab.research.google.com/github/Akasxh/Deepfake_Detection/blob/main/Deepfake_V2.ipynb\" target=\"_parent\"><img src=\"https://colab.research.google.com/assets/colab-badge.svg\" alt=\"Open In Colab\"/></a>"
      ]
    },
    {
      "source": [
        "# IMPORTANT: RUN THIS CELL IN ORDER TO IMPORT YOUR KAGGLE DATA SOURCES,\n",
        "# THEN FEEL FREE TO DELETE THIS CELL.\n",
        "# NOTE: THIS NOTEBOOK ENVIRONMENT DIFFERS FROM KAGGLE'S PYTHON\n",
        "# ENVIRONMENT SO THERE MAY BE MISSING LIBRARIES USED BY YOUR\n",
        "# NOTEBOOK.\n",
        "import kagglehub\n",
        "birdy654_cifake_real_and_ai_generated_synthetic_images_path = kagglehub.dataset_download('birdy654/cifake-real-and-ai-generated-synthetic-images')\n",
        "\n",
        "print('Data source import complete.')\n"
      ],
      "metadata": {
        "id": "v1neM3jvQMzM"
      },
      "cell_type": "code",
      "outputs": [],
      "execution_count": null
    },
    {
      "cell_type": "code",
      "source": [
        "# This Python 3 environment comes with many helpful analytics libraries installed\n",
        "# It is defined by the kaggle/python Docker image: https://github.com/kaggle/docker-python\n",
        "# For example, here's several helpful packages to load\n",
        "\n",
        "import numpy as np # linear algebra\n",
        "import pandas as pd # data processing, CSV file I/O (e.g. pd.read_csv)\n",
        "\n",
        "# Input data files are available in the read-only \"../input/\" directory\n",
        "# For example, running this (by clicking run or pressing Shift+Enter) will list all files under the input directory\n",
        "\n",
        "import os\n",
        "for dirname, _, filenames in os.walk('/kaggle/input'):\n",
        "    for filename in filenames:\n",
        "        print(os.path.join(dirname, filename))\n",
        "\n",
        "# You can write up to 20GB to the current directory (/kaggle/working/) that gets preserved as output when you create a version using \"Save & Run All\"\n",
        "# You can also write temporary files to /kaggle/temp/, but they won't be saved outside of the current session"
      ],
      "metadata": {
        "_uuid": "8f2839f25d086af736a60e9eeb907d3b93b6e0e5",
        "_cell_guid": "b1076dfc-b9ad-4769-8c92-a6c4dae69d19",
        "trusted": true,
        "id": "s8Wa-GzoQMzN"
      },
      "outputs": [],
      "execution_count": null
    },
    {
      "cell_type": "code",
      "source": [
        "import numpy as np\n",
        "import matplotlib.pyplot as plt\n",
        "from tensorflow.keras.layers import Dense, Dropout, BatchNormalization\n",
        "from tensorflow.keras import regularizers\n",
        "from IPython.display import Image"
      ],
      "metadata": {
        "trusted": true,
        "execution": {
          "iopub.status.busy": "2024-11-10T14:47:45.111742Z",
          "iopub.execute_input": "2024-11-10T14:47:45.112787Z",
          "iopub.status.idle": "2024-11-10T14:48:02.704158Z",
          "shell.execute_reply.started": "2024-11-10T14:47:45.11272Z",
          "shell.execute_reply": "2024-11-10T14:48:02.702874Z"
        },
        "id": "wez7OauyQMzN"
      },
      "outputs": [],
      "execution_count": null
    },
    {
      "cell_type": "code",
      "source": [
        "import tensorflow as tf\n",
        "from tensorflow.keras.models import Sequential\n",
        "from tensorflow.keras.layers import Dense, Dropout, BatchNormalization\n",
        "from tensorflow.keras.regularizers import l2, l1"
      ],
      "metadata": {
        "trusted": true,
        "execution": {
          "iopub.status.busy": "2024-11-10T14:53:47.862051Z",
          "iopub.execute_input": "2024-11-10T14:53:47.862553Z",
          "iopub.status.idle": "2024-11-10T14:53:47.875872Z",
          "shell.execute_reply.started": "2024-11-10T14:53:47.862506Z",
          "shell.execute_reply": "2024-11-10T14:53:47.874294Z"
        },
        "id": "rHpF_30jQMzO"
      },
      "outputs": [],
      "execution_count": null
    },
    {
      "cell_type": "code",
      "source": [
        "dataset_dir = \"/kaggle/input/cifake-real-and-ai-generated-synthetic-images/\" # For Kaggle notebooks. If you run locally, point this line to the CIFAKE directory\n",
        "print(\"Loading dataset from: \" + dataset_dir)\n"
      ],
      "metadata": {
        "trusted": true,
        "execution": {
          "iopub.status.busy": "2024-11-10T14:48:02.706599Z",
          "iopub.execute_input": "2024-11-10T14:48:02.708185Z",
          "iopub.status.idle": "2024-11-10T14:48:02.715129Z",
          "shell.execute_reply.started": "2024-11-10T14:48:02.708116Z",
          "shell.execute_reply": "2024-11-10T14:48:02.713577Z"
        },
        "id": "1T2ujUDXQMzO",
        "outputId": "4e2c24b4-52ad-4adf-bb3d-8c5982ae52cf"
      },
      "outputs": [
        {
          "name": "stdout",
          "text": "Loading dataset from: /kaggle/input/cifake-real-and-ai-generated-synthetic-images/\n",
          "output_type": "stream"
        }
      ],
      "execution_count": null
    },
    {
      "cell_type": "code",
      "source": [
        "img_height = 32\n",
        "img_width = 32\n",
        "batch_size = 500\n",
        "\n",
        "# Load the training data\n",
        "train_ds = tf.keras.utils.image_dataset_from_directory(\n",
        "  dataset_dir + \"/train\",\n",
        "  seed = 512,\n",
        "  image_size = (img_height, img_width),\n",
        "  batch_size = batch_size)\n",
        "\n",
        "# Load the validation data\n",
        "val_ds = tf.keras.utils.image_dataset_from_directory(\n",
        "  dataset_dir + \"/test\",\n",
        "  seed = 512,\n",
        "  image_size = (img_height, img_width),\n",
        "  batch_size = batch_size)\n",
        "\n",
        "print(\"Training Classes:\")\n",
        "class_names = train_ds.class_names\n",
        "print(class_names)\n",
        "\n",
        "print(\"Testing Classes:\")\n",
        "class_names = val_ds.class_names\n",
        "print(class_names)"
      ],
      "metadata": {
        "trusted": true,
        "execution": {
          "iopub.status.busy": "2024-11-10T14:48:13.723827Z",
          "iopub.execute_input": "2024-11-10T14:48:13.724264Z",
          "iopub.status.idle": "2024-11-10T14:51:19.27638Z",
          "shell.execute_reply.started": "2024-11-10T14:48:13.72422Z",
          "shell.execute_reply": "2024-11-10T14:51:19.274982Z"
        },
        "id": "QxnXa2hnQMzO",
        "outputId": "b32e3ec0-f45a-4014-8977-251909508ba4"
      },
      "outputs": [
        {
          "name": "stdout",
          "text": "Found 100000 files belonging to 2 classes.\nFound 20000 files belonging to 2 classes.\nTraining Classes:\n['FAKE', 'REAL']\nTesting Classes:\n['FAKE', 'REAL']\n",
          "output_type": "stream"
        }
      ],
      "execution_count": null
    },
    {
      "cell_type": "code",
      "source": [
        "# Function for plotting the error rate and metrics rate\n",
        "def plot_metrics(history, metric):\n",
        "    plt.plot(history.history[metric], label = metric)\n",
        "    plt.plot(history.history['val_' + metric], label='val_' + metric)\n",
        "    plt.xlabel('Epochs')\n",
        "    plt.ylabel(metric)\n",
        "    plt.legend()\n",
        "    plt.show()\n",
        "\n",
        "# Constant values that will be shared by all the models\n",
        "val_true_classes = np.concatenate([y for x, y in val_ds], axis = 0)  # Get true labels\n",
        "class_names = ['FAKE', 'REAL']\n",
        "early_stopping = tf.keras.callbacks.EarlyStopping(monitor = 'val_loss', patience = 10, restore_best_weights = True)"
      ],
      "metadata": {
        "trusted": true,
        "execution": {
          "iopub.status.busy": "2024-11-10T14:53:11.284982Z",
          "iopub.execute_input": "2024-11-10T14:53:11.285448Z",
          "iopub.status.idle": "2024-11-10T14:53:15.600886Z",
          "shell.execute_reply.started": "2024-11-10T14:53:11.285401Z",
          "shell.execute_reply": "2024-11-10T14:53:15.599329Z"
        },
        "id": "QdvTUpFGQMzP"
      },
      "outputs": [],
      "execution_count": null
    },
    {
      "cell_type": "code",
      "source": [
        "# Define the model architecture\n",
        "model = Sequential([\n",
        "    tf.keras.applications.EfficientNetV2B0(\n",
        "        include_top=False, weights=\"imagenet\", input_shape=(32, 32, 3), pooling='max'\n",
        "    ),\n",
        "    BatchNormalization(axis=-1, momentum=0.99, epsilon=0.001),\n",
        "    Dense(256,\n",
        "          activation='relu',\n",
        "          kernel_regularizer=l2(0.016),\n",
        "          activity_regularizer=l1(0.006),\n",
        "          bias_regularizer=l1(0.006)),\n",
        "    Dropout(rate=0.4, seed=123),\n",
        "    Dense(2, activation='softmax')\n",
        "])"
      ],
      "metadata": {
        "trusted": true,
        "execution": {
          "iopub.status.busy": "2024-11-10T14:55:37.334284Z",
          "iopub.execute_input": "2024-11-10T14:55:37.334878Z",
          "iopub.status.idle": "2024-11-10T14:55:42.567287Z",
          "shell.execute_reply.started": "2024-11-10T14:55:37.334828Z",
          "shell.execute_reply": "2024-11-10T14:55:42.565834Z"
        },
        "id": "0_D_lkB7QMzP",
        "outputId": "85c36a2c-c9da-402d-9f53-7c5ce24aa2a8"
      },
      "outputs": [
        {
          "name": "stdout",
          "text": "Downloading data from https://storage.googleapis.com/tensorflow/keras-applications/efficientnet_v2/efficientnetv2-b0_notop.h5\n\u001b[1m24274472/24274472\u001b[0m \u001b[32m━━━━━━━━━━━━━━━━━━━━\u001b[0m\u001b[37m\u001b[0m \u001b[1m2s\u001b[0m 0us/step\n",
          "output_type": "stream"
        }
      ],
      "execution_count": null
    },
    {
      "cell_type": "code",
      "source": [
        "# Building the Transfer Learning model using ResNet50\n",
        "ResNet_base_model = tf.keras.applications.ResNet50(\n",
        "    include_top = False,\n",
        "    weights = 'imagenet',\n",
        "    input_shape = (img_height, img_width, 3),\n",
        "    pooling = 'max'\n",
        ")\n",
        "ResNet_base_model.trainable = True\n",
        "\n",
        "# Create a new model on top of the ResNet50 base\n",
        "inputs = tf.keras.Input(shape = (img_height, img_width, 3))\n",
        "x = ResNet_base_model(inputs, training = False)\n",
        "x = BatchNormalization(axis = -1, momentum = 0.99, epsilon = 0.001)(x)\n",
        "x = Dense(256,\n",
        "          kernel_regularizer = regularizers.l2(0.01),\n",
        "          activity_regularizer = regularizers.l1(0.01),\n",
        "          bias_regularizer = regularizers.l1(0.01),\n",
        "          activation = 'relu')(x)\n",
        "x = Dropout(rate = .4, seed = 512)(x)\n",
        "x = Dense(64, activation = 'relu')(x)\n",
        "outputs = Dense(1, activation = 'sigmoid')(x)\n",
        "ResNet_model = tf.keras.Model(inputs, outputs)\n"
      ],
      "metadata": {
        "trusted": true,
        "execution": {
          "iopub.status.busy": "2024-11-10T14:58:13.337331Z",
          "iopub.execute_input": "2024-11-10T14:58:13.337889Z",
          "iopub.status.idle": "2024-11-10T14:58:19.305878Z",
          "shell.execute_reply.started": "2024-11-10T14:58:13.33784Z",
          "shell.execute_reply": "2024-11-10T14:58:19.304742Z"
        },
        "id": "6Pvi_JfZQMzP",
        "outputId": "e0ee2c5d-3fd6-4235-80de-26e1b8bbcd5f"
      },
      "outputs": [
        {
          "name": "stdout",
          "text": "Downloading data from https://storage.googleapis.com/tensorflow/keras-applications/resnet/resnet50_weights_tf_dim_ordering_tf_kernels_notop.h5\n\u001b[1m94765736/94765736\u001b[0m \u001b[32m━━━━━━━━━━━━━━━━━━━━\u001b[0m\u001b[37m\u001b[0m \u001b[1m4s\u001b[0m 0us/step\n",
          "output_type": "stream"
        }
      ],
      "execution_count": null
    },
    {
      "cell_type": "code",
      "source": [
        "# Compile the model\n",
        "ResNet_model.compile(optimizer=tf.keras.optimizers.Adamax(learning_rate=0.001),\n",
        "              loss='categorical_crossentropy',\n",
        "              metrics=['accuracy', tf.keras.metrics.Precision(), tf.keras.metrics.Recall()])"
      ],
      "metadata": {
        "trusted": true,
        "execution": {
          "iopub.status.busy": "2024-11-10T14:59:01.890801Z",
          "iopub.execute_input": "2024-11-10T14:59:01.891305Z",
          "iopub.status.idle": "2024-11-10T14:59:01.914542Z",
          "shell.execute_reply.started": "2024-11-10T14:59:01.891254Z",
          "shell.execute_reply": "2024-11-10T14:59:01.913076Z"
        },
        "id": "EDmw6D6kQMzQ"
      },
      "outputs": [],
      "execution_count": null
    },
    {
      "cell_type": "code",
      "source": [
        "# Summary of the model\n",
        "ResNet_model.summary()"
      ],
      "metadata": {
        "trusted": true,
        "execution": {
          "iopub.status.busy": "2024-11-10T14:59:10.654186Z",
          "iopub.execute_input": "2024-11-10T14:59:10.654654Z",
          "iopub.status.idle": "2024-11-10T14:59:10.697Z",
          "shell.execute_reply.started": "2024-11-10T14:59:10.654606Z",
          "shell.execute_reply": "2024-11-10T14:59:10.695779Z"
        },
        "id": "PlIzbOiJQMzQ",
        "outputId": "3e1cf982-b6f1-4b9d-f5a8-04147d283285"
      },
      "outputs": [
        {
          "output_type": "display_data",
          "data": {
            "text/plain": "\u001b[1mModel: \"functional_1\"\u001b[0m\n",
            "text/html": "<pre style=\"white-space:pre;overflow-x:auto;line-height:normal;font-family:Menlo,'DejaVu Sans Mono',consolas,'Courier New',monospace\"><span style=\"font-weight: bold\">Model: \"functional_1\"</span>\n</pre>\n"
          },
          "metadata": {}
        },
        {
          "output_type": "display_data",
          "data": {
            "text/plain": "┏━━━━━━━━━━━━━━━━━━━━━━━━━━━━━━━━━┳━━━━━━━━━━━━━━━━━━━━━━━━┳━━━━━━━━━━━━━━━┓\n┃\u001b[1m \u001b[0m\u001b[1mLayer (type)                   \u001b[0m\u001b[1m \u001b[0m┃\u001b[1m \u001b[0m\u001b[1mOutput Shape          \u001b[0m\u001b[1m \u001b[0m┃\u001b[1m \u001b[0m\u001b[1m      Param #\u001b[0m\u001b[1m \u001b[0m┃\n┡━━━━━━━━━━━━━━━━━━━━━━━━━━━━━━━━━╇━━━━━━━━━━━━━━━━━━━━━━━━╇━━━━━━━━━━━━━━━┩\n│ input_layer_2 (\u001b[38;5;33mInputLayer\u001b[0m)      │ (\u001b[38;5;45mNone\u001b[0m, \u001b[38;5;34m32\u001b[0m, \u001b[38;5;34m32\u001b[0m, \u001b[38;5;34m3\u001b[0m)      │             \u001b[38;5;34m0\u001b[0m │\n├─────────────────────────────────┼────────────────────────┼───────────────┤\n│ resnet50 (\u001b[38;5;33mFunctional\u001b[0m)           │ (\u001b[38;5;45mNone\u001b[0m, \u001b[38;5;34m2048\u001b[0m)           │    \u001b[38;5;34m23,587,712\u001b[0m │\n├─────────────────────────────────┼────────────────────────┼───────────────┤\n│ batch_normalization_1           │ (\u001b[38;5;45mNone\u001b[0m, \u001b[38;5;34m2048\u001b[0m)           │         \u001b[38;5;34m8,192\u001b[0m │\n│ (\u001b[38;5;33mBatchNormalization\u001b[0m)            │                        │               │\n├─────────────────────────────────┼────────────────────────┼───────────────┤\n│ dense_2 (\u001b[38;5;33mDense\u001b[0m)                 │ (\u001b[38;5;45mNone\u001b[0m, \u001b[38;5;34m256\u001b[0m)            │       \u001b[38;5;34m524,544\u001b[0m │\n├─────────────────────────────────┼────────────────────────┼───────────────┤\n│ dropout_1 (\u001b[38;5;33mDropout\u001b[0m)             │ (\u001b[38;5;45mNone\u001b[0m, \u001b[38;5;34m256\u001b[0m)            │             \u001b[38;5;34m0\u001b[0m │\n├─────────────────────────────────┼────────────────────────┼───────────────┤\n│ dense_3 (\u001b[38;5;33mDense\u001b[0m)                 │ (\u001b[38;5;45mNone\u001b[0m, \u001b[38;5;34m64\u001b[0m)             │        \u001b[38;5;34m16,448\u001b[0m │\n├─────────────────────────────────┼────────────────────────┼───────────────┤\n│ dense_4 (\u001b[38;5;33mDense\u001b[0m)                 │ (\u001b[38;5;45mNone\u001b[0m, \u001b[38;5;34m1\u001b[0m)              │            \u001b[38;5;34m65\u001b[0m │\n└─────────────────────────────────┴────────────────────────┴───────────────┘\n",
            "text/html": "<pre style=\"white-space:pre;overflow-x:auto;line-height:normal;font-family:Menlo,'DejaVu Sans Mono',consolas,'Courier New',monospace\">┏━━━━━━━━━━━━━━━━━━━━━━━━━━━━━━━━━┳━━━━━━━━━━━━━━━━━━━━━━━━┳━━━━━━━━━━━━━━━┓\n┃<span style=\"font-weight: bold\"> Layer (type)                    </span>┃<span style=\"font-weight: bold\"> Output Shape           </span>┃<span style=\"font-weight: bold\">       Param # </span>┃\n┡━━━━━━━━━━━━━━━━━━━━━━━━━━━━━━━━━╇━━━━━━━━━━━━━━━━━━━━━━━━╇━━━━━━━━━━━━━━━┩\n│ input_layer_2 (<span style=\"color: #0087ff; text-decoration-color: #0087ff\">InputLayer</span>)      │ (<span style=\"color: #00d7ff; text-decoration-color: #00d7ff\">None</span>, <span style=\"color: #00af00; text-decoration-color: #00af00\">32</span>, <span style=\"color: #00af00; text-decoration-color: #00af00\">32</span>, <span style=\"color: #00af00; text-decoration-color: #00af00\">3</span>)      │             <span style=\"color: #00af00; text-decoration-color: #00af00\">0</span> │\n├─────────────────────────────────┼────────────────────────┼───────────────┤\n│ resnet50 (<span style=\"color: #0087ff; text-decoration-color: #0087ff\">Functional</span>)           │ (<span style=\"color: #00d7ff; text-decoration-color: #00d7ff\">None</span>, <span style=\"color: #00af00; text-decoration-color: #00af00\">2048</span>)           │    <span style=\"color: #00af00; text-decoration-color: #00af00\">23,587,712</span> │\n├─────────────────────────────────┼────────────────────────┼───────────────┤\n│ batch_normalization_1           │ (<span style=\"color: #00d7ff; text-decoration-color: #00d7ff\">None</span>, <span style=\"color: #00af00; text-decoration-color: #00af00\">2048</span>)           │         <span style=\"color: #00af00; text-decoration-color: #00af00\">8,192</span> │\n│ (<span style=\"color: #0087ff; text-decoration-color: #0087ff\">BatchNormalization</span>)            │                        │               │\n├─────────────────────────────────┼────────────────────────┼───────────────┤\n│ dense_2 (<span style=\"color: #0087ff; text-decoration-color: #0087ff\">Dense</span>)                 │ (<span style=\"color: #00d7ff; text-decoration-color: #00d7ff\">None</span>, <span style=\"color: #00af00; text-decoration-color: #00af00\">256</span>)            │       <span style=\"color: #00af00; text-decoration-color: #00af00\">524,544</span> │\n├─────────────────────────────────┼────────────────────────┼───────────────┤\n│ dropout_1 (<span style=\"color: #0087ff; text-decoration-color: #0087ff\">Dropout</span>)             │ (<span style=\"color: #00d7ff; text-decoration-color: #00d7ff\">None</span>, <span style=\"color: #00af00; text-decoration-color: #00af00\">256</span>)            │             <span style=\"color: #00af00; text-decoration-color: #00af00\">0</span> │\n├─────────────────────────────────┼────────────────────────┼───────────────┤\n│ dense_3 (<span style=\"color: #0087ff; text-decoration-color: #0087ff\">Dense</span>)                 │ (<span style=\"color: #00d7ff; text-decoration-color: #00d7ff\">None</span>, <span style=\"color: #00af00; text-decoration-color: #00af00\">64</span>)             │        <span style=\"color: #00af00; text-decoration-color: #00af00\">16,448</span> │\n├─────────────────────────────────┼────────────────────────┼───────────────┤\n│ dense_4 (<span style=\"color: #0087ff; text-decoration-color: #0087ff\">Dense</span>)                 │ (<span style=\"color: #00d7ff; text-decoration-color: #00d7ff\">None</span>, <span style=\"color: #00af00; text-decoration-color: #00af00\">1</span>)              │            <span style=\"color: #00af00; text-decoration-color: #00af00\">65</span> │\n└─────────────────────────────────┴────────────────────────┴───────────────┘\n</pre>\n"
          },
          "metadata": {}
        },
        {
          "output_type": "display_data",
          "data": {
            "text/plain": "\u001b[1m Total params: \u001b[0m\u001b[38;5;34m24,136,961\u001b[0m (92.08 MB)\n",
            "text/html": "<pre style=\"white-space:pre;overflow-x:auto;line-height:normal;font-family:Menlo,'DejaVu Sans Mono',consolas,'Courier New',monospace\"><span style=\"font-weight: bold\"> Total params: </span><span style=\"color: #00af00; text-decoration-color: #00af00\">24,136,961</span> (92.08 MB)\n</pre>\n"
          },
          "metadata": {}
        },
        {
          "output_type": "display_data",
          "data": {
            "text/plain": "\u001b[1m Trainable params: \u001b[0m\u001b[38;5;34m24,079,745\u001b[0m (91.86 MB)\n",
            "text/html": "<pre style=\"white-space:pre;overflow-x:auto;line-height:normal;font-family:Menlo,'DejaVu Sans Mono',consolas,'Courier New',monospace\"><span style=\"font-weight: bold\"> Trainable params: </span><span style=\"color: #00af00; text-decoration-color: #00af00\">24,079,745</span> (91.86 MB)\n</pre>\n"
          },
          "metadata": {}
        },
        {
          "output_type": "display_data",
          "data": {
            "text/plain": "\u001b[1m Non-trainable params: \u001b[0m\u001b[38;5;34m57,216\u001b[0m (223.50 KB)\n",
            "text/html": "<pre style=\"white-space:pre;overflow-x:auto;line-height:normal;font-family:Menlo,'DejaVu Sans Mono',consolas,'Courier New',monospace\"><span style=\"font-weight: bold\"> Non-trainable params: </span><span style=\"color: #00af00; text-decoration-color: #00af00\">57,216</span> (223.50 KB)\n</pre>\n"
          },
          "metadata": {}
        }
      ],
      "execution_count": null
    },
    {
      "cell_type": "code",
      "source": [
        "# Train the Transfer Learning model\n",
        "print(\"Starting training with Transfer Learning using ResNet50...\")\n",
        "ResNet_model_history = ResNet_model.fit(\n",
        "    train_ds,\n",
        "    validation_data = val_ds,\n",
        "    epochs = 1,\n",
        "    verbose = 1,\n",
        "    callbacks = [early_stopping]\n",
        ")\n",
        "print(\"Transfer Learning training finished.\")"
      ],
      "metadata": {
        "trusted": true,
        "execution": {
          "iopub.status.busy": "2024-11-10T16:29:42.980688Z",
          "iopub.execute_input": "2024-11-10T16:29:42.981266Z",
          "iopub.status.idle": "2024-11-10T17:34:46.822097Z",
          "shell.execute_reply.started": "2024-11-10T16:29:42.981207Z",
          "shell.execute_reply": "2024-11-10T17:34:46.820658Z"
        },
        "id": "lTJs9OfqQMzQ",
        "outputId": "74c9fda4-d1d4-4341-c912-0e013a4f726f"
      },
      "outputs": [
        {
          "name": "stdout",
          "text": "Starting training with Transfer Learning using ResNet50...\n\u001b[1m200/200\u001b[0m \u001b[32m━━━━━━━━━━━━━━━━━━━━\u001b[0m\u001b[37m\u001b[0m \u001b[1m3904s\u001b[0m 20s/step - accuracy: 0.4991 - loss: 4.2113 - precision_1: 0.0000e+00 - recall_1: 0.0000e+00 - val_accuracy: 0.5000 - val_loss: 4.1254 - val_precision_1: 0.0000e+00 - val_recall_1: 0.0000e+00\nTransfer Learning training finished.\n",
          "output_type": "stream"
        }
      ],
      "execution_count": null
    },
    {
      "cell_type": "code",
      "source": [],
      "metadata": {
        "trusted": true,
        "id": "YQnL4kLOQMzR"
      },
      "outputs": [],
      "execution_count": null
    }
  ]
}